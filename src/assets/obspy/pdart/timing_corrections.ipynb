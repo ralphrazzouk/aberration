{
 "cells": [
  {
   "cell_type": "markdown",
   "metadata": {},
   "source": [
    "# Timing Corrections"
   ]
  },
  {
   "cell_type": "markdown",
   "metadata": {},
   "source": [
    "We made several corrections to the timing traces. We used the frame numbers, in combination with the timing, to make continuous traces.\n",
    "\n",
    "Data corrections included: \n",
    "\n",
    "1) Leap Seconds \n",
    "\n",
    "\n",
    "\n"
   ]
  },
  {
   "cell_type": "markdown",
   "metadata": {},
   "source": [
    "There were leap seconds during the operation of the Apollo mission. \n",
    "\n",
    "https://en.wikipedia.org/wiki/Leap_second\n",
    "\n",
    "<img src=\"Electronic_Supplement/figs/wiki_leap_seconds.png\" width=\"200\"/>"
   ]
  },
  {
   "cell_type": "markdown",
   "metadata": {},
   "source": [
    "The timing divergence one on of the affected days: "
   ]
  },
  {
   "cell_type": "markdown",
   "metadata": {},
   "source": [
    "<img src=\"Electronic_Supplement/figs/1975-01-01-before.png\" width=\"400\"/>"
   ]
  },
  {
   "cell_type": "markdown",
   "metadata": {},
   "source": [
    "We checked the number of missing samples, and found that the timing in the morning of the 1972-07-01 came from the previous day."
   ]
  },
  {
   "cell_type": "code",
   "execution_count": 25,
   "metadata": {},
   "outputs": [],
   "source": [
    "    # original = 1,\"1975-01-01T00:00:10.703000Z\",0,\"S12\",0,2,532,531,520,533,532,521,534,534,521,534,534,522,7,\n",
    "    # corrected = 1975-01-01T00:00:09.703000Z\n",
    "\n",
    "    # In this example, the correct timestamp is 9 s after midnight, but \n",
    "    # it was recorded in the previous timeframe as 10 s after midnight, since\n",
    "    # the leap second is missing. "
   ]
  },
  {
   "cell_type": "markdown",
   "metadata": {},
   "source": [
    "We correct all the leap seconds by removing the extra second to the first samples from the morning: "
   ]
  },
  {
   "cell_type": "markdown",
   "metadata": {},
   "source": [
    "<img src=\"Electronic_Supplement/figs/1975-01-01-after.png\" width=\"400\"/>"
   ]
  },
  {
   "cell_type": "code",
   "execution_count": null,
   "metadata": {},
   "outputs": [],
   "source": []
  }
 ],
 "metadata": {
  "anaconda-cloud": {},
  "kernelspec": {
   "display_name": "Python 3 (ipykernel)",
   "language": "python",
   "name": "python3"
  },
  "language_info": {
   "codemirror_mode": {
    "name": "ipython",
    "version": 3
   },
   "file_extension": ".py",
   "mimetype": "text/x-python",
   "name": "python",
   "nbconvert_exporter": "python",
   "pygments_lexer": "ipython3",
   "version": "3.7.12"
  }
 },
 "nbformat": 4,
 "nbformat_minor": 1
}
